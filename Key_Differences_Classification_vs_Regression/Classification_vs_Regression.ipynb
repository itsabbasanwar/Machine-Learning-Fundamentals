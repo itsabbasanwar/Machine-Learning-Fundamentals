{
 "cells": [
  {
   "cell_type": "code",
   "execution_count": 1,
   "id": "4894e4f7-3f59-4c75-b822-16bb018b3236",
   "metadata": {},
   "outputs": [
    {
     "name": "stdout",
     "output_type": "stream",
     "text": [
      "Classification Example:\n",
      "Actual Labels:    [0 1 1 1 0 1 0 0 0 0]\n",
      "Predicted Labels: [0 1 0 1 0 1 0 0 0 0]\n",
      "Classification Accuracy: 0.89\n",
      "\n",
      "Regression Example:\n",
      "Actual Values:    [  42.67   75.01   -4.06 -295.72   44.43   21.68 -146.52  -60.56  -15.32\n",
      "  176.65]\n",
      "Predicted Values: [  -5.16   32.33  -90.78 -247.03  -37.43   43.2  -127.52  -13.61    5.06\n",
      "  159.58]\n",
      "Regression Mean Squared Error: 2799.71\n",
      "\n"
     ]
    }
   ],
   "source": [
    "# Key Differences Between Classification and Regression\n",
    "# -----------------------------------------------------\n",
    "# 1. **Definition**:\n",
    "#    - Classification: Predicts discrete labels (e.g., cat, dog, yes, no).\n",
    "#    - Regression: Predicts continuous values (e.g., temperature, price).\n",
    "#\n",
    "# 2. **Output**:\n",
    "#    - Classification: Categorical output (e.g., Class A, Class B).\n",
    "#    - Regression: Numerical output (e.g., 42.7, 13.9).\n",
    "#\n",
    "# 3. **Use Cases**:\n",
    "#    - Classification: Spam detection, image recognition, fraud detection.\n",
    "#    - Regression: House price prediction, stock market forecasting, temperature estimation.\n",
    "\n",
    "# Example Python Code for Classification and Regression\n",
    "from sklearn.datasets import make_classification, make_regression\n",
    "from sklearn.model_selection import train_test_split\n",
    "from sklearn.ensemble import RandomForestClassifier, RandomForestRegressor\n",
    "from sklearn.metrics import accuracy_score, mean_squared_error\n",
    "import numpy as np\n",
    "\n",
    "# Classification Example\n",
    "# Creating a synthetic dataset for classification with binary output\n",
    "X_class, y_class = make_classification(n_samples=1000, n_features=10, n_classes=2, random_state=42)\n",
    "X_train_class, X_test_class, y_train_class, y_test_class = train_test_split(X_class, y_class, test_size=0.3, random_state=42)\n",
    "\n",
    "# Training a Random Forest Classifier\n",
    "clf = RandomForestClassifier(random_state=42)\n",
    "clf.fit(X_train_class, y_train_class)\n",
    "\n",
    "# Making predictions and evaluating accuracy\n",
    "y_pred_class = clf.predict(X_test_class)\n",
    "classification_accuracy = accuracy_score(y_test_class, y_pred_class)\n",
    "\n",
    "# Displaying sample output for classification\n",
    "print(\"Classification Example:\")\n",
    "print(f\"Actual Labels:    {y_test_class[:10]}\")\n",
    "print(f\"Predicted Labels: {y_pred_class[:10]}\")\n",
    "print(f\"Classification Accuracy: {classification_accuracy:.2f}\\n\")\n",
    "\n",
    "# Regression Example\n",
    "# Creating a synthetic dataset for regression with continuous output\n",
    "X_reg, y_reg = make_regression(n_samples=1000, n_features=10, noise=0.1, random_state=42)\n",
    "X_train_reg, X_test_reg, y_train_reg, y_test_reg = train_test_split(X_reg, y_reg, test_size=0.3, random_state=42)\n",
    "\n",
    "# Training a Random Forest Regressor\n",
    "reg = RandomForestRegressor(random_state=42)\n",
    "reg.fit(X_train_reg, y_train_reg)\n",
    "\n",
    "# Making predictions and evaluating mean squared error\n",
    "y_pred_reg = reg.predict(X_test_reg)\n",
    "regression_mse = mean_squared_error(y_test_reg, y_pred_reg)\n",
    "\n",
    "# Displaying sample output for regression\n",
    "print(\"Regression Example:\")\n",
    "print(f\"Actual Values:    {np.round(y_test_reg[:10], 2)}\")\n",
    "print(f\"Predicted Values: {np.round(y_pred_reg[:10], 2)}\")\n",
    "print(f\"Regression Mean Squared Error: {regression_mse:.2f}\\n\")\n",
    "\n",
    "# Summary\n",
    "# - **Classification**: Used for problems where the output is a label/category.\n",
    "# - **Regression**: Used for problems where the output is a real number.\n",
    "# Both approaches use machine learning algorithms but are evaluated differently based on the problem domain.\n"
   ]
  },
  {
   "cell_type": "code",
   "execution_count": null,
   "id": "ab1a29cd-008d-4261-bcfc-bcd95a6312a7",
   "metadata": {},
   "outputs": [],
   "source": []
  }
 ],
 "metadata": {
  "kernelspec": {
   "display_name": "Python 3 (ipykernel)",
   "language": "python",
   "name": "python3"
  },
  "language_info": {
   "codemirror_mode": {
    "name": "ipython",
    "version": 3
   },
   "file_extension": ".py",
   "mimetype": "text/x-python",
   "name": "python",
   "nbconvert_exporter": "python",
   "pygments_lexer": "ipython3",
   "version": "3.11.7"
  }
 },
 "nbformat": 4,
 "nbformat_minor": 5
}
