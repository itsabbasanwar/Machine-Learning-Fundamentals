{
 "cells": [
  {
   "cell_type": "code",
   "execution_count": 2,
   "id": "d956465a-f45d-4396-9453-ffbc64bfe92a",
   "metadata": {},
   "outputs": [
    {
     "name": "stdout",
     "output_type": "stream",
     "text": [
      "Classification Loss: 0.31853973865509033\n",
      "Segmentation Loss: 0.5007040500640869\n",
      "Generation Loss: 0.16457389295101166\n"
     ]
    }
   ],
   "source": [
    "import torch\n",
    "import torch.nn.functional as F\n",
    "\n",
    "def image_cost_function(predictions, targets, task_type='classification', weight=None):\n",
    "    \"\"\"\n",
    "    General cost function for image-related tasks.\n",
    "\n",
    "    Args:\n",
    "        predictions: Tensor of predicted values (logits, probabilities, or pixel intensities).\n",
    "        targets: Tensor of ground truth values (labels or images).\n",
    "        task_type: The type of task: 'classification', 'segmentation', or 'generation'.\n",
    "        weight: Class weights (optional, for imbalanced datasets).\n",
    "    \n",
    "    Returns:\n",
    "        cost: Computed loss for the task.\n",
    "    \"\"\"\n",
    "    if task_type == 'classification':\n",
    "        # Cross-entropy loss for classification\n",
    "        loss = F.cross_entropy(predictions, targets, weight=weight)\n",
    "    \n",
    "    elif task_type == 'segmentation':\n",
    "        # Dice loss for segmentation\n",
    "        smooth = 1.0\n",
    "        predictions = torch.sigmoid(predictions)  # Ensure logits are in range [0, 1]\n",
    "        intersection = torch.sum(predictions * targets)\n",
    "        union = torch.sum(predictions) + torch.sum(targets)\n",
    "        loss = 1 - (2.0 * intersection + smooth) / (union + smooth)\n",
    "    \n",
    "    elif task_type == 'generation':\n",
    "        # Mean squared error (MSE) for image generation\n",
    "        loss = F.mse_loss(predictions, targets)\n",
    "    \n",
    "    else:\n",
    "        raise ValueError(\"Unsupported task type. Choose from 'classification', 'segmentation', or 'generation'.\")\n",
    "    \n",
    "    return loss\n",
    "\n",
    "# Example 1: Classification Task\n",
    "# Dummy inputs for classification\n",
    "predictions_classification = torch.tensor([[2.0, 1.0, 0.1], [0.5, 2.5, 0.3]], requires_grad=True)  # Logits\n",
    "targets_classification = torch.tensor([0, 1])  # Ground truth labels\n",
    "\n",
    "# Calculate loss\n",
    "classification_loss = image_cost_function(predictions_classification, targets_classification, task_type='classification')\n",
    "print(\"Classification Loss:\", classification_loss.item())\n",
    "\n",
    "# Example 2: Segmentation Task\n",
    "# Dummy inputs for segmentation\n",
    "predictions_segmentation = torch.randn(1, 1, 256, 256, requires_grad=True)  # Logits for segmentation\n",
    "targets_segmentation = torch.randint(0, 2, (1, 1, 256, 256)).float()  # Ground truth binary mask\n",
    "\n",
    "# Calculate loss\n",
    "segmentation_loss = image_cost_function(predictions_segmentation, targets_segmentation, task_type='segmentation')\n",
    "print(\"Segmentation Loss:\", segmentation_loss.item())\n",
    "\n",
    "# Example 3: Image Generation Task\n",
    "# Dummy inputs for image generation\n",
    "predictions_generation = torch.rand(1, 3, 64, 64, requires_grad=True)  # Predicted image\n",
    "targets_generation = torch.rand(1, 3, 64, 64)  # Ground truth image\n",
    "\n",
    "# Calculate loss\n",
    "generation_loss = image_cost_function(predictions_generation, targets_generation, task_type='generation')\n",
    "print(\"Generation Loss:\", generation_loss.item())\n"
   ]
  },
  {
   "cell_type": "code",
   "execution_count": null,
   "id": "630ee61f-c312-46f9-972c-121238ebf3f1",
   "metadata": {},
   "outputs": [],
   "source": []
  },
  {
   "cell_type": "code",
   "execution_count": null,
   "id": "8b74d4a7-cd64-4794-ae92-4a936394c3aa",
   "metadata": {},
   "outputs": [],
   "source": []
  }
 ],
 "metadata": {
  "kernelspec": {
   "display_name": "Python 3 (ipykernel)",
   "language": "python",
   "name": "python3"
  },
  "language_info": {
   "codemirror_mode": {
    "name": "ipython",
    "version": 3
   },
   "file_extension": ".py",
   "mimetype": "text/x-python",
   "name": "python",
   "nbconvert_exporter": "python",
   "pygments_lexer": "ipython3",
   "version": "3.11.7"
  }
 },
 "nbformat": 4,
 "nbformat_minor": 5
}
