{
 "cells": [
  {
   "cell_type": "code",
   "execution_count": 1,
   "id": "d956465a-f45d-4396-9453-ffbc64bfe92a",
   "metadata": {},
   "outputs": [],
   "source": [
    "import torch\n",
    "import torch.nn.functional as F\n",
    "\n",
    "def image_cost_function(predictions, targets, task_type='classification', weight=None):\n",
    "    \"\"\"\n",
    "    General cost function for image-related tasks.\n",
    "\n",
    "    Args:\n",
    "        predictions: Tensor of predicted values (logits, probabilities, or pixel intensities).\n",
    "        targets: Tensor of ground truth values (labels or images).\n",
    "        task_type: The type of task: 'classification', 'segmentation', or 'generation'.\n",
    "        weight: Class weights (optional, for imbalanced datasets).\n",
    "    \n",
    "    Returns:\n",
    "        cost: Computed loss for the task.\n",
    "    \"\"\"\n",
    "    if task_type == 'classification':\n",
    "        # Cross-entropy loss for classification\n",
    "        loss = F.cross_entropy(predictions, targets, weight=weight)\n",
    "    \n",
    "    elif task_type == 'segmentation':\n",
    "        # Dice loss for segmentation\n",
    "        smooth = 1.0\n",
    "        predictions = torch.sigmoid(predictions)  # Ensure logits are in range [0, 1]\n",
    "        intersection = torch.sum(predictions * targets)\n",
    "        union = torch.sum(predictions) + torch.sum(targets)\n",
    "        loss = 1 - (2.0 * intersection + smooth) / (union + smooth)\n",
    "    \n",
    "    elif task_type == 'generation':\n",
    "        # Mean squared error (MSE) for image generation\n",
    "        loss = F.mse_loss(predictions, targets)\n",
    "    \n",
    "    else:\n",
    "        raise ValueError(\"Unsupported task type. Choose from 'classification', 'segmentation', or 'generation'.\")\n",
    "    \n",
    "    return loss\n"
   ]
  },
  {
   "cell_type": "code",
   "execution_count": null,
   "id": "630ee61f-c312-46f9-972c-121238ebf3f1",
   "metadata": {},
   "outputs": [],
   "source": []
  }
 ],
 "metadata": {
  "kernelspec": {
   "display_name": "Python 3 (ipykernel)",
   "language": "python",
   "name": "python3"
  },
  "language_info": {
   "codemirror_mode": {
    "name": "ipython",
    "version": 3
   },
   "file_extension": ".py",
   "mimetype": "text/x-python",
   "name": "python",
   "nbconvert_exporter": "python",
   "pygments_lexer": "ipython3",
   "version": "3.11.7"
  }
 },
 "nbformat": 4,
 "nbformat_minor": 5
}
