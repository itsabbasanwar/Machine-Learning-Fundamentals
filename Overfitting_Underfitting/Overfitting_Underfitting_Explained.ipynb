{
 "cells": [
  {
   "cell_type": "markdown",
   "id": "be44d89b-879b-4b7d-adbe-c39c46f6b01f",
   "metadata": {},
   "source": [
    "1. Underfitting Example\n",
    "This section demonstrates a model that is too simple (e.g., fitting a linear model to non-linear data):"
   ]
  },
  {
   "cell_type": "code",
   "execution_count": null,
   "id": "a512ddcc-3082-486f-b2ed-1496405bfa49",
   "metadata": {},
   "outputs": [],
   "source": [
    "import numpy as np\n",
    "import matplotlib.pyplot as plt\n",
    "from sklearn.linear_model import LinearRegression\n",
    "\n",
    "# Generate synthetic non-linear data\n",
    "np.random.seed(42)\n",
    "X = np.linspace(0, 10, 100).reshape(-1, 1)\n",
    "y = np.sin(X).ravel() + np.random.normal(0, 0.1, X.shape[0])\n",
    "\n",
    "# Fit a simple linear regression model (underfitting)\n",
    "linear_model = LinearRegression()\n",
    "linear_model.fit(X, y)\n",
    "y_pred = linear_model.predict(X)\n",
    "\n",
    "# Plot the results\n",
    "plt.figure(figsize=(8, 6))\n",
    "plt.scatter(X, y, color='blue', label='Data')\n",
    "plt.plot(X, y_pred, color='red', label='Linear Fit (Underfitting)')\n",
    "plt.title(\"Underfitting Example\")\n",
    "plt.xlabel(\"X (Feature)\")\n",
    "plt.ylabel(\"y (Target)\")\n",
    "plt.legend()\n",
    "plt.show()\n"
   ]
  },
  {
   "cell_type": "markdown",
   "id": "b3f0c0a7-78ee-4802-974e-fa9d510c67d3",
   "metadata": {},
   "source": [
    "2. Overfitting Example\n",
    "This section demonstrates a model that is too complex (e.g., fitting a high-degree polynomial to the same data):"
   ]
  },
  {
   "cell_type": "code",
   "execution_count": null,
   "id": "8a6b7cdf-69e3-435a-9f10-14b8eac8127a",
   "metadata": {},
   "outputs": [],
   "source": [
    "from sklearn.preprocessing import PolynomialFeatures\n",
    "from sklearn.pipeline import make_pipeline\n",
    "\n",
    "# Fit a high-degree polynomial regression model (overfitting)\n",
    "degree = 15\n",
    "overfit_model = make_pipeline(PolynomialFeatures(degree), LinearRegression())\n",
    "overfit_model.fit(X, y)\n",
    "y_pred_overfit = overfit_model.predict(X)\n",
    "\n",
    "# Plot the results\n",
    "plt.figure(figsize=(8, 6))\n",
    "plt.scatter(X, y, color='blue', label='Data')\n",
    "plt.plot(X, y_pred_overfit, color='red', label=f'Polynomial Degree {degree} (Overfitting)')\n",
    "plt.title(\"Overfitting Example\")\n",
    "plt.xlabel(\"X (Feature)\")\n",
    "plt.ylabel(\"y (Target)\")\n",
    "plt.legend()\n",
    "plt.show()\n"
   ]
  },
  {
   "cell_type": "markdown",
   "id": "646a226b-cbbc-445e-86f0-65923cf9af55",
   "metadata": {},
   "source": [
    "3. Balanced Model Example (Optional)\n",
    "To provide a complete perspective, you could also include an example of a balanced model, showing a degree that neither underfits nor overfits."
   ]
  },
  {
   "cell_type": "code",
   "execution_count": null,
   "id": "158a66ed-bc61-4e9f-91fb-826ae52208b8",
   "metadata": {},
   "outputs": [],
   "source": [
    "# Fit a moderate-degree polynomial regression model (balanced)\n",
    "degree = 4\n",
    "balanced_model = make_pipeline(PolynomialFeatures(degree), LinearRegression())\n",
    "balanced_model.fit(X, y)\n",
    "y_pred_balanced = balanced_model.predict(X)\n",
    "\n",
    "# Plot the results\n",
    "plt.figure(figsize=(8, 6))\n",
    "plt.scatter(X, y, color='blue', label='Data')\n",
    "plt.plot(X, y_pred_balanced, color='green', label=f'Polynomial Degree {degree} (Balanced Fit)')\n",
    "plt.title(\"Balanced Model Example\")\n",
    "plt.xlabel(\"X (Feature)\")\n",
    "plt.ylabel(\"y (Target)\")\n",
    "plt.legend()\n",
    "plt.show()\n"
   ]
  },
  {
   "cell_type": "markdown",
   "id": "0e310d47-b876-437e-97e6-82ffac6a5bd4",
   "metadata": {},
   "source": [
    "Explanation of Separation\n",
    "Underfitting: Linear model used for non-linear data.\n",
    "Overfitting: High-degree polynomial fit capturing noise in the data.\n",
    "Balanced Model: A moderately complex polynomial that captures the underlying pattern without overfitting."
   ]
  }
 ],
 "metadata": {
  "kernelspec": {
   "display_name": "Python 3 (ipykernel)",
   "language": "python",
   "name": "python3"
  },
  "language_info": {
   "codemirror_mode": {
    "name": "ipython",
    "version": 3
   },
   "file_extension": ".py",
   "mimetype": "text/x-python",
   "name": "python",
   "nbconvert_exporter": "python",
   "pygments_lexer": "ipython3",
   "version": "3.11.7"
  }
 },
 "nbformat": 4,
 "nbformat_minor": 5
}
